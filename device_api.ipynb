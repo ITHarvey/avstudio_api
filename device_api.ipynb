{
 "cells": [
  {
   "cell_type": "code",
   "execution_count": 23,
   "metadata": {},
   "outputs": [],
   "source": [
    "import os\n",
    "import logging\n",
    "import json\n",
    "from time import sleep\n",
    "from IPython.core.display import display, HTML, Image\n",
    "\n",
    "# Little helpers\n",
    "\n",
    "def printAsHtmlTable(objList, keys):\n",
    "    htmlRows = []\n",
    "    htmlRows.append(\"<table>\")\n",
    "    htmlRows.append(\"<tbody>\")\n",
    "    \n",
    "    htmlRows.append(\"<tr>\")\n",
    "    for k in keys:\n",
    "        htmlRows.append(\"<th>\")\n",
    "        htmlRows.append(k)\n",
    "        htmlRows.append(\"</th>\")\n",
    "    htmlRows.append(\"</tr>\")\n",
    "        \n",
    "    for obj in objList:\n",
    "        htmlRows.append(\"<tr>\")\n",
    "        for k in keys:\n",
    "            htmlRows.append(\"<td>\")\n",
    "            htmlRows.append(obj.get(k, \"<i>[NULL]</i>\"))\n",
    "            htmlRows.append(\"</td>\")\n",
    "        htmlRows.append(\"</tr>\")\n",
    "    htmlRows.append(\"</tbody>\")\n",
    "    htmlRows.append(\"</table>\")\n",
    "    \n",
    "    display(HTML('\\n'.join(htmlRows)))\n",
    "    \n",
    "def printDevices(devices):\n",
    "    printAsHtmlTable(devices, [\"Id\", \"Model\", \"Name\", \"Status\"])"
   ]
  },
  {
   "cell_type": "markdown",
   "metadata": {},
   "source": [
    "#### Getting credentials and codes\n",
    "When the notebook is exported, these values are taken from config.json\n",
    "```\n",
    "$ cat config.json\n",
    "{\n",
    "  \"AVS_USERNAME\": \"test_username\",\n",
    "  \"AVS_PASSWORD\": \"test_password\",\n",
    "  \"AVS_PAIRING_CODE\": \"9999-1111\"\n",
    "}\n",
    "\n",
    "$ jupyter nbconvert --to html --execute device_api.ipynb --ExecutePreprocessor.timeout=-1\n",
    "```\n",
    "\n",
    "Otherwise, if the notebook is used in interactive mode, set up those values right in the code below."
   ]
  },
  {
   "cell_type": "code",
   "execution_count": 25,
   "metadata": {},
   "outputs": [],
   "source": [
    "configFilename = \"config.json\"\n",
    "if os.path.isfile(configFilename):\n",
    "    with open(configFilename) as f:\n",
    "        cfg = json.load(f)\n",
    "\n",
    "        kAVSUsername = cfg[\"AVS_USERNAME\"]\n",
    "        kAVSPassword = cfg[\"AVS_PASSWORD\"]\n",
    "        kPairingCode = cfg[\"AVS_PAIRING_CODE\"]\n",
    "else:\n",
    "    kAVSUsername = \"test_username\"\n",
    "    kAVSPassword = \"test_password\"\n",
    "    kPairingCode = \"9999-1111\""
   ]
  },
  {
   "cell_type": "markdown",
   "metadata": {},
   "source": [
    "#### Importing AV Studio API"
   ]
  },
  {
   "cell_type": "code",
   "execution_count": 26,
   "metadata": {},
   "outputs": [],
   "source": [
    "from avstudio.avstudio import AVStudioAPI"
   ]
  },
  {
   "cell_type": "markdown",
   "metadata": {},
   "source": [
    "# Establishing connection to AV Studio"
   ]
  },
  {
   "cell_type": "code",
   "execution_count": 27,
   "metadata": {},
   "outputs": [],
   "source": [
    "api = AVStudioAPI(\"go.avstudio.com\")"
   ]
  },
  {
   "cell_type": "code",
   "execution_count": 28,
   "metadata": {},
   "outputs": [],
   "source": [
    "if False:\n",
    "    logger = logging.getLogger(\"avstudio\")\n",
    "    logging.basicConfig()\n",
    "    logger.setLevel(logging.DEBUG)"
   ]
  },
  {
   "cell_type": "code",
   "execution_count": 32,
   "metadata": {},
   "outputs": [
    {
     "data": {
      "text/html": [
       "<table>\n",
       "<tbody>\n",
       "<tr>\n",
       "<th>\n",
       "Id\n",
       "</th>\n",
       "<th>\n",
       "Model\n",
       "</th>\n",
       "<th>\n",
       "Name\n",
       "</th>\n",
       "<th>\n",
       "Status\n",
       "</th>\n",
       "</tr>\n",
       "<tr>\n",
       "<td>\n",
       "demo_0_0ce4234e-388b-4380-a5db-93c2911926d1\n",
       "</td>\n",
       "<td>\n",
       "Demo\n",
       "</td>\n",
       "<td>\n",
       "My First Demo Device\n",
       "</td>\n",
       "<td>\n",
       "Online\n",
       "</td>\n",
       "</tr>\n",
       "<tr>\n",
       "<td>\n",
       "demo_1_277249bb-5ace-49a7-8e5c-9c2fc27df344\n",
       "</td>\n",
       "<td>\n",
       "Demo\n",
       "</td>\n",
       "<td>\n",
       "My Second Demo Device\n",
       "</td>\n",
       "<td>\n",
       "Online\n",
       "</td>\n",
       "</tr>\n",
       "</tbody>\n",
       "</table>"
      ],
      "text/plain": [
       "<IPython.core.display.HTML object>"
      ]
     },
     "metadata": {},
     "output_type": "display_data"
    }
   ],
   "source": [
    "api.login(kAVSUsername, kAVSPassword)\n",
    "allDevices = api.Devices.get_all()\n",
    "    \n",
    "printDevices(allDevices)"
   ]
  },
  {
   "cell_type": "markdown",
   "metadata": {},
   "source": [
    "# Pairing device to AV Studio:"
   ]
  },
  {
   "cell_type": "code",
   "execution_count": 159,
   "metadata": {},
   "outputs": [],
   "source": [
    "deviceId = api.Devices.add(kPairingCode, \"Webcaster on my desk\")[\"ID\"]"
   ]
  },
  {
   "cell_type": "code",
   "execution_count": 160,
   "metadata": {},
   "outputs": [
    {
     "data": {
      "text/html": [
       "<table>\n",
       "<tbody>\n",
       "<tr>\n",
       "<th>\n",
       "Id\n",
       "</th>\n",
       "<th>\n",
       "Model\n",
       "</th>\n",
       "<th>\n",
       "Name\n",
       "</th>\n",
       "<th>\n",
       "Status\n",
       "</th>\n",
       "</tr>\n",
       "<tr>\n",
       "<td>\n",
       "e74196b56b4f4be6bf85cee08faec9b5\n",
       "</td>\n",
       "<td>\n",
       "WCX2\n",
       "</td>\n",
       "<td>\n",
       "Webcaster on my desk\n",
       "</td>\n",
       "<td>\n",
       "Online\n",
       "</td>\n",
       "</tr>\n",
       "</tbody>\n",
       "</table>"
      ],
      "text/plain": [
       "<IPython.core.display.HTML object>"
      ]
     },
     "metadata": {},
     "output_type": "display_data"
    }
   ],
   "source": [
    "printDevices(api.Devices.get_all())"
   ]
  },
  {
   "cell_type": "markdown",
   "metadata": {},
   "source": [
    "# Getting current image from the device"
   ]
  },
  {
   "cell_type": "code",
   "execution_count": 161,
   "metadata": {},
   "outputs": [
    {
     "data": {
      "image/jpeg": "[encoded data removed]",
      "text/plain": [
       "<IPython.core.display.Image object>"
      ]
     },
     "execution_count": 161,
     "metadata": {},
     "output_type": "execute_result"
    }
   ],
   "source": [
    "tmpImagePath = \"/tmp/image_%s.jpg\" % deviceId\n",
    "api.Devices.get_state_image(deviceId, tmpImagePath)\n",
    "Image(tmpImagePath)"
   ]
  },
  {
   "cell_type": "markdown",
   "metadata": {},
   "source": [
    "# Setting stream parameters"
   ]
  },
  {
   "cell_type": "code",
   "execution_count": 164,
   "metadata": {},
   "outputs": [],
   "source": [
    "api.Devices.run_command(deviceId, \"setparam:bitrate=%d\" % 1024)  # 1 Mbit/s\n",
    "api.Devices.run_command(deviceId, 'setparam:resolution=%s' % \"640x360\")\n",
    "\n",
    "devTelemetry = api.Devices.get(deviceId)[\"Telemetry\"]\n",
    "if \"settings\" in devTelemetry:\n",
    "    printAsHtmlTable(devTelemetry[\"settings\"].values(), [\"id\", \"title\", \"value\"])"
   ]
  },
  {
   "cell_type": "markdown",
   "metadata": {},
   "source": [
    "# Streaming to RTMP"
   ]
  },
  {
   "cell_type": "code",
   "execution_count": 145,
   "metadata": {},
   "outputs": [],
   "source": [
    "streamKey = \"ENTER-STREAM-KEY-HERE\"  # youtube.com/live_dashboard\n",
    "url = \"rtmp://a.rtmp.youtube.com/live2/%s\" % streamKey\n",
    "_ = api.Devices.run_command(deviceId, \"rtmp.start:%s\" % url)"
   ]
  },
  {
   "cell_type": "code",
   "execution_count": 146,
   "metadata": {},
   "outputs": [
    {
     "data": {
      "text/html": [
       "<iframe width=\"560\" height=\"315\" src=\"https://www.youtube.com/embed/_TjNchPqqYE\" frameborder=\"0\" allow=\"autoplay; encrypted-media\" allowfullscreen></iframe>"
      ],
      "text/plain": [
       "<IPython.core.display.HTML object>"
      ]
     },
     "metadata": {},
     "output_type": "display_data"
    }
   ],
   "source": [
    "# Let it stream a little\n",
    "streamId = \"ENTER-PUBLIC-STREAM-ID-HERE\"\n",
    "display(HTML('<iframe width=\"560\" height=\"315\" src=\"https://www.youtube.com/embed/%s\" frameborder=\"0\" allow=\"autoplay; encrypted-media\" allowfullscreen></iframe>' % streamId))"
   ]
  },
  {
   "cell_type": "code",
   "execution_count": 147,
   "metadata": {},
   "outputs": [],
   "source": [
    "_ = api.Devices.run_command(deviceId, \"rtmp.stop\")"
   ]
  },
  {
   "cell_type": "markdown",
   "metadata": {},
   "source": [
    "# Unpairing the device:"
   ]
  },
  {
   "cell_type": "code",
   "execution_count": 165,
   "metadata": {},
   "outputs": [
    {
     "data": {
      "text/html": [
       "<table>\n",
       "<tbody>\n",
       "<tr>\n",
       "<th>\n",
       "Id\n",
       "</th>\n",
       "<th>\n",
       "Model\n",
       "</th>\n",
       "<th>\n",
       "Name\n",
       "</th>\n",
       "<th>\n",
       "Status\n",
       "</th>\n",
       "</tr>\n",
       "</tbody>\n",
       "</table>"
      ],
      "text/plain": [
       "<IPython.core.display.HTML object>"
      ]
     },
     "metadata": {},
     "output_type": "display_data"
    }
   ],
   "source": [
    "api.Devices.delete(deviceId)\n",
    "printDevices(api.Devices.get_all())"
   ]
  }
 ],
 "metadata": {
  "kernelspec": {
   "display_name": "Python 3",
   "language": "python",
   "name": "python3"
  },
  "language_info": {
   "codemirror_mode": {
    "name": "ipython",
    "version": 3
   },
   "file_extension": ".py",
   "mimetype": "text/x-python",
   "name": "python",
   "nbconvert_exporter": "python",
   "pygments_lexer": "ipython3",
   "version": "3.6.5"
  }
 },
 "nbformat": 4,
 "nbformat_minor": 2
}
