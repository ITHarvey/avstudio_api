{
 "cells": [
  {
   "cell_type": "code",
   "execution_count": null,
   "metadata": {},
   "outputs": [],
   "source": [
    "import os\n",
    "import logging\n",
    "import json\n",
    "from time import sleep\n",
    "from IPython.core.display import display, HTML, Image\n",
    "\n",
    "# Little helpers\n",
    "\n",
    "def printAsHtmlTable(objList, keys):\n",
    "    htmlRows = []\n",
    "    htmlRows.append(\"<table>\")\n",
    "    htmlRows.append(\"<tbody>\")\n",
    "    \n",
    "    htmlRows.append(\"<tr>\")\n",
    "    for k in keys:\n",
    "        htmlRows.append(\"<th>\")\n",
    "        htmlRows.append(k)\n",
    "        htmlRows.append(\"</th>\")\n",
    "    htmlRows.append(\"</tr>\")\n",
    "        \n",
    "    for obj in objList:\n",
    "        htmlRows.append(\"<tr>\")\n",
    "        for k in keys:\n",
    "            htmlRows.append(\"<td>\")\n",
    "            htmlRows.append(obj.get(k, \"<i>[NULL]</i>\"))\n",
    "            htmlRows.append(\"</td>\")\n",
    "        htmlRows.append(\"</tr>\")\n",
    "    htmlRows.append(\"</tbody>\")\n",
    "    htmlRows.append(\"</table>\")\n",
    "    \n",
    "    display(HTML('\\n'.join(htmlRows)))\n",
    "    \n",
    "def printDevices(devices):\n",
    "    printAsHtmlTable(devices, [\"Id\", \"Model\", \"Name\", \"Status\"])"
   ]
  },
  {
   "cell_type": "markdown",
   "metadata": {},
   "source": [
    "# Getting credentials and codes\n",
    "These values are taken from config.json, if it exists.\n",
    "```\n",
    "$ cat config.json\n",
    "{\n",
    "    \"avs_username\": \"test_username\",\n",
    "    \"avs_password\": \"test_password\",\n",
    "    \"pairing_code\": \"9999-1111\",\n",
    "    \"rtmp_url\": \"rtmp://youtube.com/live/test\"\n",
    "}\n",
    "\n",
    "$ jupyter nbconvert --to html --execute device_api.ipynb --ExecutePreprocessor.timeout=-1\n",
    "```\n",
    "\n",
    "Alternatively, you can hardcode those values in the code below."
   ]
  },
  {
   "cell_type": "code",
   "execution_count": null,
   "metadata": {},
   "outputs": [],
   "source": [
    "kAVSUsername = \"test_username\"\n",
    "kAVSPassword = \"test_password\"\n",
    "kPairingCode = \"9999-1111\"\n",
    "kRTMPUrl = \"rtmp://youtube.com/live/test\"\n",
    "\n",
    "configFilename = \"config.json\"\n",
    "if os.path.isfile(configFilename):\n",
    "    with open(configFilename) as f:\n",
    "        cfg = json.load(f)\n",
    "\n",
    "        kAVSUsername = cfg[\"avs_username\"]\n",
    "        kAVSPassword = cfg[\"avs_password\"]\n",
    "        kPairingCode = cfg[\"pairing_code\"]\n",
    "        kRTMPUrl = cfg[\"rtmp_url\"]"
   ]
  },
  {
   "cell_type": "markdown",
   "metadata": {},
   "source": [
    "# Importing AV Studio API"
   ]
  },
  {
   "cell_type": "code",
   "execution_count": null,
   "metadata": {},
   "outputs": [],
   "source": [
    "from avstudio import AVStudioAPI"
   ]
  },
  {
   "cell_type": "markdown",
   "metadata": {},
   "source": [
    "# Establishing connection to AV Studio"
   ]
  },
  {
   "cell_type": "code",
   "execution_count": null,
   "metadata": {},
   "outputs": [],
   "source": [
    "api = AVStudioAPI(\"go.avstudio.com\")"
   ]
  },
  {
   "cell_type": "code",
   "execution_count": null,
   "metadata": {},
   "outputs": [],
   "source": [
    "logger = logging.getLogger(\"avstudio\")\n",
    "logging.basicConfig()\n",
    "logger.setLevel(logging.ERROR) # use logging.DEBUG to see raw HTTP"
   ]
  },
  {
   "cell_type": "code",
   "execution_count": null,
   "metadata": {},
   "outputs": [],
   "source": [
    "api.login(kAVSUsername, kAVSPassword)\n",
    "allDevices = api.Devices.get_all()\n",
    "    \n",
    "printDevices(allDevices)"
   ]
  },
  {
   "cell_type": "markdown",
   "metadata": {},
   "source": [
    "# Pairing device to AV Studio:"
   ]
  },
  {
   "cell_type": "code",
   "execution_count": null,
   "metadata": {},
   "outputs": [],
   "source": [
    "deviceId = api.Devices.add(kPairingCode, \"Webcaster on my desk\")[\"ID\"]"
   ]
  },
  {
   "cell_type": "code",
   "execution_count": null,
   "metadata": {},
   "outputs": [],
   "source": [
    "printDevices(api.Devices.get_all())"
   ]
  },
  {
   "cell_type": "markdown",
   "metadata": {},
   "source": [
    "# Getting current image from the device"
   ]
  },
  {
   "cell_type": "code",
   "execution_count": null,
   "metadata": {},
   "outputs": [],
   "source": [
    "sleep(2) # Bit of delay after pairing\n",
    "\n",
    "tmpImagePath = \"/tmp/image_%s.jpg\" % deviceId\n",
    "api.Devices.get_state_image(deviceId, tmpImagePath)\n",
    "Image(tmpImagePath)"
   ]
  },
  {
   "cell_type": "markdown",
   "metadata": {},
   "source": [
    "# Setting stream parameters"
   ]
  },
  {
   "cell_type": "code",
   "execution_count": null,
   "metadata": {},
   "outputs": [],
   "source": [
    "api.Devices.run_command(deviceId, \"setparam:bitrate=%d\" % 1024)  # 1 Mbit/s\n",
    "api.Devices.run_command(deviceId, 'setparam:resolution=%s' % \"640x360\")\n",
    "\n",
    "devTelemetry = api.Devices.get(deviceId)[\"Telemetry\"]\n",
    "if \"settings\" in devTelemetry:\n",
    "    printAsHtmlTable(devTelemetry[\"settings\"].values(), [\"id\", \"title\", \"value\"])"
   ]
  },
  {
   "cell_type": "markdown",
   "metadata": {},
   "source": [
    "# Streaming to RTMP\n",
    "To start RTMP stream, use `rtmp.start` command:"
   ]
  },
  {
   "cell_type": "code",
   "execution_count": null,
   "metadata": {},
   "outputs": [],
   "source": [
    "_ = api.Devices.run_command(deviceId, \"rtmp.start:%s\" % kRTMPUrl)"
   ]
  },
  {
   "cell_type": "markdown",
   "metadata": {},
   "source": [
    "## Getting RMTP stream status\n",
    "\n",
    "Device reports its status every 30 seconds and after receiving a command. To get the most recent device status, send `nop` command: device will do nothing, but it will force status submission."
   ]
  },
  {
   "cell_type": "code",
   "execution_count": null,
   "metadata": {},
   "outputs": [],
   "source": [
    "sleep(2) # Let it start\n",
    "\n",
    "api.Devices.run_command(deviceId, \"nop\")\n",
    "\n",
    "rtmp_status = api.Devices.get(deviceId)[\"Telemetry\"][\"state\"][\"rtmp\"]\n",
    "print(json.dumps(rtmp_status, indent=4))"
   ]
  },
  {
   "cell_type": "markdown",
   "metadata": {},
   "source": [
    "## Stopping RTMP streaming"
   ]
  },
  {
   "cell_type": "code",
   "execution_count": null,
   "metadata": {},
   "outputs": [],
   "source": [
    "_ = api.Devices.run_command(deviceId, \"rtmp.stop\")"
   ]
  },
  {
   "cell_type": "markdown",
   "metadata": {},
   "source": [
    "# Unpairing the device:"
   ]
  },
  {
   "cell_type": "code",
   "execution_count": null,
   "metadata": {},
   "outputs": [],
   "source": [
    "api.Devices.delete(deviceId)\n",
    "printDevices(api.Devices.get_all())"
   ]
  },
  {
   "cell_type": "code",
   "execution_count": null,
   "metadata": {},
   "outputs": [],
   "source": []
  }
 ],
 "metadata": {
  "kernelspec": {
   "display_name": "Python 3",
   "language": "python",
   "name": "python3"
  },
  "language_info": {
   "codemirror_mode": {
    "name": "ipython",
    "version": 2
   },
   "file_extension": ".py",
   "mimetype": "text/x-python",
   "name": "python",
   "nbconvert_exporter": "python",
   "pygments_lexer": "ipython2",
   "version": "2.7.15"
  },
  "varInspector": {
   "cols": {
    "lenName": 16,
    "lenType": 16,
    "lenVar": 40
   },
   "kernels_config": {
    "python": {
     "delete_cmd_postfix": "",
     "delete_cmd_prefix": "del ",
     "library": "var_list.py",
     "varRefreshCmd": "print(var_dic_list())"
    },
    "r": {
     "delete_cmd_postfix": ") ",
     "delete_cmd_prefix": "rm(",
     "library": "var_list.r",
     "varRefreshCmd": "cat(var_dic_list()) "
    }
   },
   "types_to_exclude": [
    "module",
    "function",
    "builtin_function_or_method",
    "instance",
    "_Feature"
   ],
   "window_display": false
  }
 },
 "nbformat": 4,
 "nbformat_minor": 2
}
